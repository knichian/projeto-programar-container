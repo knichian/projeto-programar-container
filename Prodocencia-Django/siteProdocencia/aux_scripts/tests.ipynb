{
 "cells": [
  {
   "cell_type": "code",
   "execution_count": 1,
   "metadata": {},
   "outputs": [
    {
     "name": "stdout",
     "output_type": "stream",
     "text": [
      "['valor1', 'valor2']\n"
     ]
    }
   ],
   "source": [
    "lista1 = []\n",
    "lista2 = ['valor1', 'valor2']\n",
    "\n",
    "# Adiciona todos os elementos de lista2 à lista1\n",
    "lista1.extend(lista2)\n",
    "\n",
    "print(lista1)\n"
   ]
  },
  {
   "cell_type": "code",
   "execution_count": 6,
   "metadata": {},
   "outputs": [
    {
     "name": "stdout",
     "output_type": "stream",
     "text": [
      "[]\n"
     ]
    }
   ],
   "source": [
    "from ip_utils import get_local_ip\n",
    "\n",
    "def get_allowed_hosts(settings_path):\n",
    "    # Lista de hosts padrão\n",
    "    default_hosts = ['localhost', '127.0.0.1']\n",
    "\n",
    "    # Adiciona o IP local à lista de hosts padrão\n",
    "    local_ip = get_local_ip()\n",
    "    if local_ip:\n",
    "        default_hosts.append(local_ip)\n",
    "\n",
    "    # Lê a configuração ALLOWED_HOSTS do arquivo settings.py\n",
    "    allowed_hosts = []\n",
    "    with open(settings_path, 'r') as file:\n",
    "        for line in file:\n",
    "            if line.startswith('ALLOWED_HOSTS'):\n",
    "                # Obtém a lista de ALLOWED_HOSTS\n",
    "                allowed_hosts = eval(line.split('=')[1])\n",
    "                break\n",
    "\n",
    "    # Remove os valores duplicados e adiciona à lista\n",
    "    allowed_hosts_list = list(set(default_hosts) - set(allowed_hosts))\n",
    "\n",
    "    return allowed_hosts_list\n",
    "\n",
    "path = '/root/Prodocencia-Django/siteProdocencia/settings.py'\n",
    "print(get_allowed_hosts(path))"
   ]
  }
 ],
 "metadata": {
  "kernelspec": {
   "display_name": "django_venv",
   "language": "python",
   "name": "python3"
  },
  "language_info": {
   "codemirror_mode": {
    "name": "ipython",
    "version": 3
   },
   "file_extension": ".py",
   "mimetype": "text/x-python",
   "name": "python",
   "nbconvert_exporter": "python",
   "pygments_lexer": "ipython3",
   "version": "3.12.3"
  }
 },
 "nbformat": 4,
 "nbformat_minor": 2
}
